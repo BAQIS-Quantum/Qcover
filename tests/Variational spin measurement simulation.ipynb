{
 "cells": [
  {
   "cell_type": "code",
   "execution_count": 13,
   "metadata": {},
   "outputs": [],
   "source": [
    "import numpy as np\n",
    "import networkx as nx\n",
    "from scipy.optimize import minimize\n",
    "\n",
    "from qiskit import *\n",
    "from qiskit import Aer\n",
    "from qiskit.circuit import Parameter\n",
    "from qiskit.visualization import plot_histogram"
   ]
  },
  {
   "cell_type": "code",
   "execution_count": 14,
   "metadata": {},
   "outputs": [],
   "source": [
    "backend = Aer.get_backend('qasm_simulator')\n",
    "backend.shots = 1024*500"
   ]
  },
  {
   "cell_type": "markdown",
   "metadata": {},
   "source": [
    "Set inital state of measured spin:"
   ]
  },
  {
   "cell_type": "code",
   "execution_count": 15,
   "metadata": {},
   "outputs": [],
   "source": [
    "phi = 0"
   ]
  },
  {
   "cell_type": "markdown",
   "metadata": {},
   "source": [
    "Define circuit based on Fig. 2b in paper:"
   ]
  },
  {
   "cell_type": "code",
   "execution_count": 16,
   "metadata": {},
   "outputs": [],
   "source": [
    "def create_qaoa_cir(G, theta):\n",
    "    N_qubits = len(G.nodes())\n",
    "    p = len(theta)//2\n",
    "    qc = QuantumCircuit(N_qubits)\n",
    "    \n",
    "    gamma = theta[:p]\n",
    "    beta = theta[p:]\n",
    "    \n",
    "    for i in range((N_qubits-1)//2):\n",
    "        qc.h(i)\n",
    "    \n",
    "    qc.ry(phi, (N_qubits-1)//2)\n",
    "    # qc.h(N_qubits//2)\n",
    "    \n",
    "    for i in range((N_qubits+1)//2, N_qubits):\n",
    "        qc.h(i)\n",
    "    \n",
    "    for irep in range(p):\n",
    "        for pair in list(G.edges()):\n",
    "            qc.rzz(-2*gamma[irep], pair[0], pair[1])\n",
    "            \n",
    "        #for i in range(N_qubits):\n",
    "         #   qc.rx(2*beta[irep], i)\n",
    "        \n",
    "        for i in range((N_qubits-1)//2):\n",
    "            qc.rx(2*beta[irep], i)\n",
    "        for i in range((N_qubits+1)//2, N_qubits):\n",
    "            qc.rx(2*beta[irep], i)\n",
    "        \n",
    "    qc.measure_all()\n",
    "    \n",
    "    return qc"
   ]
  },
  {
   "cell_type": "markdown",
   "metadata": {},
   "source": [
    "Define objective function:"
   ]
  },
  {
   "cell_type": "code",
   "execution_count": 17,
   "metadata": {},
   "outputs": [],
   "source": [
    "def Ising_obj(x, G):\n",
    "    obj = 0\n",
    "    for i, j in G.edges():\n",
    "        if x[i] == x[j]:\n",
    "            obj -= 1\n",
    "        else:\n",
    "            obj +=1\n",
    "    return obj"
   ]
  },
  {
   "cell_type": "markdown",
   "metadata": {},
   "source": [
    "Calculating expectation value of circuit:"
   ]
  },
  {
   "cell_type": "code",
   "execution_count": 18,
   "metadata": {},
   "outputs": [],
   "source": [
    "def compute_expectation(counts, G):\n",
    "    avg = 0\n",
    "    sum_count = 0\n",
    "    for bitstring, count in counts.items():\n",
    "        obj = Ising_obj(bitstring, G)\n",
    "        avg += obj * count\n",
    "        sum_count += count\n",
    "    return avg/sum_count"
   ]
  },
  {
   "cell_type": "markdown",
   "metadata": {},
   "source": [
    "Calculating parametrized circuit expectation value:"
   ]
  },
  {
   "cell_type": "code",
   "execution_count": 19,
   "metadata": {},
   "outputs": [],
   "source": [
    "def get_expectation(G, theta, shots=1024):\n",
    "    backend = Aer.get_backend('qasm_simulator')\n",
    "    backend.shots = shots\n",
    "    \n",
    "    def execute_circ(theta):\n",
    "        \n",
    "        qc = create_qaoa_cir(G, theta)\n",
    "        counts = backend.run(qc, seed_simulator=10, nshots=1024).result().get_counts()\n",
    "    \n",
    "        return compute_expectation(counts, G)\n",
    "    \n",
    "    return execute_circ"
   ]
  },
  {
   "cell_type": "markdown",
   "metadata": {},
   "source": [
    "Results plot:"
   ]
  },
  {
   "cell_type": "code",
   "execution_count": 20,
   "metadata": {},
   "outputs": [],
   "source": [
    "def plot_counts(x):\n",
    "    qc_res = create_qaoa_cir(G, x)\n",
    "    counts = backend.run(qc_res, seed_simulator=10).result().get_counts()\n",
    "    \n",
    "    return qc_res.draw('mpl'), plot_histogram(counts)"
   ]
  },
  {
   "cell_type": "markdown",
   "metadata": {},
   "source": [
    "Generate nearest Ising Hamiltonian with a 1D chain of 7 qubits: "
   ]
  },
  {
   "cell_type": "code",
   "execution_count": 21,
   "metadata": {},
   "outputs": [],
   "source": [
    "G = nx.Graph()\n",
    "N=7\n",
    "#nearest interaction\n",
    "for i in range(N-1):\n",
    "    G.add_edge(i, i+1, weight=-1)\n",
    "for i in range(N):\n",
    "    G.add_node(i, weight=0)"
   ]
  },
  {
   "cell_type": "markdown",
   "metadata": {},
   "source": [
    "Initialize parameters of 3 layers with 6 parameters as:"
   ]
  },
  {
   "cell_type": "code",
   "execution_count": 22,
   "metadata": {},
   "outputs": [],
   "source": [
    "theta = [1, 1, 1, 1, 1, 1]"
   ]
  },
  {
   "cell_type": "markdown",
   "metadata": {},
   "source": [
    "Finding optimized parameters with variational method:"
   ]
  },
  {
   "cell_type": "code",
   "execution_count": 23,
   "metadata": {},
   "outputs": [],
   "source": [
    "exp = get_expectation(G, theta)\n",
    "res = minimize(exp, theta, method=\"COBYLA\")"
   ]
  },
  {
   "cell_type": "code",
   "execution_count": 24,
   "metadata": {},
   "outputs": [
    {
     "data": {
      "text/plain": [
       "     fun: -5.974609375\n",
       "   maxcv: 0.0\n",
       " message: 'Optimization terminated successfully.'\n",
       "    nfev: 113\n",
       "  status: 1\n",
       " success: True\n",
       "       x: array([2.39278374, 2.32628394, 2.34594002, 0.76757343, 0.75836103,\n",
       "       0.74384174])"
      ]
     },
     "execution_count": 24,
     "metadata": {},
     "output_type": "execute_result"
    }
   ],
   "source": [
    "res"
   ]
  },
  {
   "cell_type": "markdown",
   "metadata": {},
   "source": [
    "Output the optimized circuit output state for measured spin input state as |0>:"
   ]
  },
  {
   "cell_type": "code",
   "execution_count": 25,
   "metadata": {},
   "outputs": [
    {
     "data": {
      "image/png": "[encoded data removed]",
      "text/plain": [
       "<Figure size 504x360 with 1 Axes>"
      ]
     },
     "execution_count": 25,
     "metadata": {},
     "output_type": "execute_result"
    }
   ],
   "source": [
    "P = plot_counts(res.x)\n",
    "P[1]"
   ]
  },
  {
   "cell_type": "markdown",
   "metadata": {},
   "source": [
    "Fix the optimized parameters in circuit and change the input state of measured spin:"
   ]
  },
  {
   "cell_type": "code",
   "execution_count": 25,
   "metadata": {},
   "outputs": [],
   "source": [
    "phi = np.pi/4\n",
    "theta = [2.40756694, 2.37257408, 2.34787417, 0.79040416, 0.78994118,\n",
    "       0.73654257]"
   ]
  },
  {
   "cell_type": "code",
   "execution_count": 26,
   "metadata": {},
   "outputs": [],
   "source": [
    "exp = get_expectation(G, theta)\n",
    "res = minimize(exp, theta, method=\"COBYLA\")"
   ]
  },
  {
   "cell_type": "code",
   "execution_count": 27,
   "metadata": {},
   "outputs": [
    {
     "data": {
      "text/plain": [
       "     fun: -5.9921875\n",
       "   maxcv: 0.0\n",
       " message: 'Optimization terminated successfully.'\n",
       "    nfev: 48\n",
       "  status: 1\n",
       " success: True\n",
       "       x: array([2.37962072, 2.36791103, 2.34563802, 0.78150532, 0.79568363,\n",
       "       0.75388623])"
      ]
     },
     "execution_count": 27,
     "metadata": {},
     "output_type": "execute_result"
    }
   ],
   "source": [
    "res"
   ]
  },
  {
   "cell_type": "code",
   "execution_count": 28,
   "metadata": {},
   "outputs": [
    {
     "data": {
      "image/png": "[encoded data removed]",
      "text/plain": [
       "<Figure size 504x360 with 1 Axes>"
      ]
     },
     "execution_count": 28,
     "metadata": {},
     "output_type": "execute_result"
    }
   ],
   "source": [
    "P = plot_counts(res.x)\n",
    "P[1]"
   ]
  },
  {
   "cell_type": "code",
   "execution_count": 29,
   "metadata": {},
   "outputs": [],
   "source": [
    "phi = np.pi/2\n",
    "theta = [2.40756694, 2.37257408, 2.34787417, 0.79040416, 0.78994118,\n",
    "       0.73654257]"
   ]
  },
  {
   "cell_type": "code",
   "execution_count": 30,
   "metadata": {},
   "outputs": [],
   "source": [
    "exp = get_expectation(G, theta)\n",
    "res = minimize(exp, theta, method=\"COBYLA\")"
   ]
  },
  {
   "cell_type": "code",
   "execution_count": 31,
   "metadata": {},
   "outputs": [
    {
     "data": {
      "text/plain": [
       "     fun: -5.994140625\n",
       "   maxcv: 0.0\n",
       " message: 'Optimization terminated successfully.'\n",
       "    nfev: 50\n",
       "  status: 1\n",
       " success: True\n",
       "       x: array([2.38536158, 2.35516428, 2.36270432, 0.79060672, 0.7813355 ,\n",
       "       0.75285169])"
      ]
     },
     "execution_count": 31,
     "metadata": {},
     "output_type": "execute_result"
    }
   ],
   "source": [
    "res"
   ]
  },
  {
   "cell_type": "code",
   "execution_count": 32,
   "metadata": {},
   "outputs": [
    {
     "data": {
      "image/png": "[encoded data removed]",
      "text/plain": [
       "<Figure size 504x360 with 1 Axes>"
      ]
     },
     "execution_count": 32,
     "metadata": {},
     "output_type": "execute_result"
    }
   ],
   "source": [
    "P = plot_counts(res.x)\n",
    "P[1]"
   ]
  },
  {
   "cell_type": "code",
   "execution_count": 33,
   "metadata": {},
   "outputs": [],
   "source": [
    "phi = np.pi\n",
    "theta = [2.40756694, 2.37257408, 2.34787417, 0.79040416, 0.78994118,\n",
    "       0.73654257]"
   ]
  },
  {
   "cell_type": "code",
   "execution_count": 34,
   "metadata": {},
   "outputs": [],
   "source": [
    "exp = get_expectation(G, theta)\n",
    "res = minimize(exp, theta, method=\"COBYLA\")"
   ]
  },
  {
   "cell_type": "code",
   "execution_count": 35,
   "metadata": {},
   "outputs": [
    {
     "data": {
      "text/plain": [
       "     fun: -5.984375\n",
       "   maxcv: 0.0\n",
       " message: 'Optimization terminated successfully.'\n",
       "    nfev: 56\n",
       "  status: 1\n",
       " success: True\n",
       "       x: array([2.3947153 , 2.37586459, 2.34913808, 0.79322872, 0.79567406,\n",
       "       0.75606524])"
      ]
     },
     "execution_count": 35,
     "metadata": {},
     "output_type": "execute_result"
    }
   ],
   "source": [
    "res"
   ]
  },
  {
   "cell_type": "code",
   "execution_count": 36,
   "metadata": {},
   "outputs": [
    {
     "data": {
      "image/png": "[encoded data removed]",
      "text/plain": [
       "<Figure size 504x360 with 1 Axes>"
      ]
     },
     "execution_count": 36,
     "metadata": {},
     "output_type": "execute_result"
    }
   ],
   "source": [
    "P = plot_counts(res.x)\n",
    "P[1]"
   ]
  },
  {
   "cell_type": "code",
   "execution_count": null,
   "metadata": {},
   "outputs": [],
   "source": []
  }
 ],
 "metadata": {
  "interpreter": {
   "hash": "fa839aae1c4c54df455f46ad79ddcd4feec487a35a28c1d49ce9a78042995852"
  },
  "kernelspec": {
   "display_name": "Python 3.8.10 ('qiskitv')",
   "language": "python",
   "name": "python3"
  },
  "language_info": {
   "codemirror_mode": {
    "name": "ipython",
    "version": 3
   },
   "file_extension": ".py",
   "mimetype": "text/x-python",
   "name": "python",
   "nbconvert_exporter": "python",
   "pygments_lexer": "ipython3",
   "version": "3.8.10"
  }
 },
 "nbformat": 4,
 "nbformat_minor": 4
}
